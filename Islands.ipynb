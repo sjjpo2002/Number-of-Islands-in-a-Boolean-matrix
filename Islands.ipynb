{
 "cells": [
  {
   "cell_type": "markdown",
   "metadata": {},
   "source": [
    "# Number of Islands in a Boolean matrix"
   ]
  },
  {
   "cell_type": "markdown",
   "metadata": {
    "collapsed": true
   },
   "source": [
    "\n",
    "This is a Python implementation of the solution suggested [here](http://www.geeksforgeeks.org/find-number-of-islands/). THe problem is to find the number of connected \"1\"s in a Boolean matrix.  \n",
    "\n"
   ]
  },
  {
   "cell_type": "code",
   "execution_count": 1,
   "metadata": {
    "collapsed": true
   },
   "outputs": [],
   "source": [
    "import numpy as np\n",
    "import sys\n",
    "\n",
    "sys.setrecursionlimit(10000)\n",
    "\n",
    "def dfs(mat, visited, i, j):\n",
    "    for ii in np.arange(i-1, i+2):\n",
    "        for jj in np.arange(j-1, j+2):\n",
    "            try:\n",
    "                if ii > -1 and jj > -1:\n",
    "                    if mat[ii][jj] == 1 and visited[ii][jj] == 0:                   \n",
    "                        visited[ii][jj] = 1\n",
    "                        dfs(mat, visited, ii, jj)\n",
    "\n",
    "                    else:\n",
    "                        visited[ii][jj] = 1\n",
    "\n",
    "            except IndexError:\n",
    "                pass\n",
    "    return 0\n",
    "\n",
    "def num_islands(mat):\n",
    "    n = len(mat)\n",
    "    m = len(mat[0])\n",
    "    visited = np.zeros((n, m))\n",
    "    islands = 0\n",
    "    for i in range(n):\n",
    "        for j in range(m):\n",
    "            if mat[i][j] and visited[i][j] == 0:\n",
    "                visited[i][j] = 1\n",
    "                islands += 1\n",
    "                dfs(mat, visited, i, j)\n",
    "            \n",
    "            visited[i][j] = 1\n",
    "\n",
    "    return islands"
   ]
  },
  {
   "cell_type": "code",
   "execution_count": 2,
   "metadata": {
    "collapsed": false
   },
   "outputs": [
    {
     "data": {
      "text/plain": [
       "1"
      ]
     },
     "execution_count": 2,
     "metadata": {},
     "output_type": "execute_result"
    }
   ],
   "source": [
    "mat = [[0, 1, 1, 1, 0],\n",
    "       [1, 0, 0, 0, 1],\n",
    "       [1, 0, 1, 1, 1],\n",
    "       [1, 0, 0, 0, 1],\n",
    "       [0, 1, 1, 1, 0]]\n",
    "\n",
    "num_islands(mat)"
   ]
  },
  {
   "cell_type": "code",
   "execution_count": 3,
   "metadata": {
    "collapsed": false
   },
   "outputs": [
    {
     "data": {
      "text/plain": [
       "2"
      ]
     },
     "execution_count": 3,
     "metadata": {},
     "output_type": "execute_result"
    }
   ],
   "source": [
    "mat = [[0, 1, 1, 1, 0],\n",
    "       [1, 0, 0, 0, 1],\n",
    "       [1, 0, 1, 0, 1],\n",
    "       [1, 0, 0, 0, 1],\n",
    "       [0, 1, 1, 1, 0]]\n",
    "\n",
    "num_islands(mat)"
   ]
  },
  {
   "cell_type": "markdown",
   "metadata": {},
   "source": [
    "It works!"
   ]
  },
  {
   "cell_type": "markdown",
   "metadata": {},
   "source": [
    "The proposed method definitely works for smaller matrices but using recursion on large matrices might not be very effiecient. Let's solve the same problem in iterative way and compare the performance for larger matrices. The code for iterative way is:"
   ]
  },
  {
   "cell_type": "code",
   "execution_count": 4,
   "metadata": {
    "collapsed": true
   },
   "outputs": [],
   "source": [
    "from collections import deque\n",
    "import numpy as np\n",
    "\n",
    "def neighbors(x, y, n, m, visited):\n",
    "    neibs = []\n",
    "    for i in range(x-1, x+2):\n",
    "        for j in range(y-1, y+2):\n",
    "            if -1 < i < n and -1 < j < m and visited[i][j] == 0:\n",
    "                neibs.append((i, j))\n",
    "                \n",
    "    return neibs\n",
    "\n",
    "def iter_islands(mat):\n",
    "    n = len(mat)\n",
    "    m = len(mat[0])\n",
    "    visited = np.zeros((n, m))\n",
    "    islands = 0\n",
    "    for i in range(n):\n",
    "        for j in range(m):\n",
    "            if mat[i][j] and visited[i][j] == 0:\n",
    "                visited[i][j] = 1\n",
    "                islands += 1\n",
    "                nodes_to_visit = deque(neighbors(i, j, n, m, visited)) \n",
    "                while len(nodes_to_visit) > 0:\n",
    "                    current_node = nodes_to_visit.pop()\n",
    "                    if mat[current_node[0]][current_node[1]] == 1 and visited[current_node[0]][current_node[1]] == 0:\n",
    "                        visited[current_node[0]][current_node[1]] = 1\n",
    "                        nodes_to_visit.extend(neighbors(current_node[0], current_node[1], n, m, visited))\n",
    "\n",
    "                    else:\n",
    "                        visited[current_node[0]][current_node[1]] = 1\n",
    "\n",
    "            visited[i][j] = 1\n",
    "\n",
    "    return islands"
   ]
  },
  {
   "cell_type": "code",
   "execution_count": 5,
   "metadata": {
    "collapsed": false
   },
   "outputs": [
    {
     "data": {
      "text/plain": [
       "5"
      ]
     },
     "execution_count": 5,
     "metadata": {},
     "output_type": "execute_result"
    }
   ],
   "source": [
    "mat = [[0, 1, 1, 1, 0],\n",
    "       [1, 0, 0, 0, 1],\n",
    "       [1, 0, 1, 0, 1],\n",
    "       [0, 0, 0, 0, 0],\n",
    "       [1, 0, 1, 0, 1]]\n",
    "\n",
    "iter_islands(mat)"
   ]
  },
  {
   "cell_type": "code",
   "execution_count": 6,
   "metadata": {
    "collapsed": true
   },
   "outputs": [],
   "source": [
    "mat = np.random.randint(2, size=(100, 100))"
   ]
  },
  {
   "cell_type": "code",
   "execution_count": 7,
   "metadata": {
    "collapsed": false
   },
   "outputs": [
    {
     "name": "stdout",
     "output_type": "stream",
     "text": [
      "48\n",
      "Wall time: 68 ms\n"
     ]
    }
   ],
   "source": [
    "%%time\n",
    "print iter_islands(mat)"
   ]
  },
  {
   "cell_type": "code",
   "execution_count": 8,
   "metadata": {
    "collapsed": false
   },
   "outputs": [
    {
     "name": "stdout",
     "output_type": "stream",
     "text": [
      "48\n",
      "Wall time: 106 ms\n"
     ]
    }
   ],
   "source": [
    "%%time\n",
    "print num_islands(mat)"
   ]
  },
  {
   "cell_type": "markdown",
   "metadata": {},
   "source": [
    "I couldn't run the recursive function for matrices larger than 100 by 100. Python just crashes. This could be because of stack overflow or other issues. But overall recursive functions are not scalable. But we can run the iterative function for much larger matrices. "
   ]
  },
  {
   "cell_type": "code",
   "execution_count": 11,
   "metadata": {
    "collapsed": true
   },
   "outputs": [],
   "source": [
    "mat = np.random.randint(2, size=(10000, 10000))"
   ]
  },
  {
   "cell_type": "code",
   "execution_count": 12,
   "metadata": {
    "collapsed": false
   },
   "outputs": [
    {
     "name": "stdout",
     "output_type": "stream",
     "text": [
      "328802\n",
      "Wall time: 8min 52s\n"
     ]
    }
   ],
   "source": [
    "%%time\n",
    "print iter_islands(mat)"
   ]
  }
 ],
 "metadata": {
  "kernelspec": {
   "display_name": "Python 2",
   "language": "python",
   "name": "python2"
  },
  "language_info": {
   "codemirror_mode": {
    "name": "ipython",
    "version": 2
   },
   "file_extension": ".py",
   "mimetype": "text/x-python",
   "name": "python",
   "nbconvert_exporter": "python",
   "pygments_lexer": "ipython2",
   "version": "2.7.11"
  }
 },
 "nbformat": 4,
 "nbformat_minor": 0
}
