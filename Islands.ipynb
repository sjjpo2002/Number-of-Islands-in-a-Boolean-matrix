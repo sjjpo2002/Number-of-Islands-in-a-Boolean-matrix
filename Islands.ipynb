{
 "cells": [
  {
   "cell_type": "markdown",
   "metadata": {},
   "source": [
    "# Number of Islands in a Boolean matrix"
   ]
  },
  {
   "cell_type": "markdown",
   "metadata": {
    "collapsed": true
   },
   "source": [
    "\n",
    "This is a Python implementation of the solution suggested [here](http://www.geeksforgeeks.org/find-number-of-islands/). THe problem is to find the number of connected \"1\"s in a Boolean matrix.  \n",
    "\n"
   ]
  },
  {
   "cell_type": "code",
   "execution_count": 1,
   "metadata": {
    "collapsed": true
   },
   "outputs": [],
   "source": [
    "import numpy as np\n",
    "\n",
    "def dfs(mat, visited, i, j):\n",
    "    for ii in np.arange(i-1, i+2):\n",
    "        for jj in np.arange(j-1, j+2):\n",
    "            try:\n",
    "                if ii > -1 and jj > -1:\n",
    "                    if mat[ii][jj] == 1 and visited[ii][jj] == 0:                   \n",
    "                        visited[ii][jj] = 1\n",
    "                        dfs(mat, visited, ii, jj)\n",
    "\n",
    "                    else:\n",
    "                        visited[ii][jj] = 1\n",
    "\n",
    "            except IndexError:\n",
    "                pass\n",
    "    return 0\n",
    "\n",
    "def num_islands(mat):\n",
    "    n = len(mat)\n",
    "    m = len(mat[0])\n",
    "    visited = np.zeros((n, m))\n",
    "    islands = 0\n",
    "    for i in range(n):\n",
    "        for j in range(m):\n",
    "            if mat[i][j] and visited[i][j] == 0:\n",
    "                visited[i][j] = 1\n",
    "                islands += 1\n",
    "                dfs(mat, visited, i, j)\n",
    "            \n",
    "            visited[i][j] = 1\n",
    "\n",
    "    return islands"
   ]
  },
  {
   "cell_type": "code",
   "execution_count": 2,
   "metadata": {
    "collapsed": false
   },
   "outputs": [
    {
     "data": {
      "text/plain": [
       "1"
      ]
     },
     "execution_count": 2,
     "metadata": {},
     "output_type": "execute_result"
    }
   ],
   "source": [
    "mat = [[0, 1, 1, 1, 0],\n",
    "       [1, 0, 0, 0, 1],\n",
    "       [1, 0, 1, 1, 1],\n",
    "       [1, 0, 0, 0, 1],\n",
    "       [0, 1, 1, 1, 0]]\n",
    "\n",
    "num_islands(mat)"
   ]
  },
  {
   "cell_type": "code",
   "execution_count": 3,
   "metadata": {
    "collapsed": false
   },
   "outputs": [
    {
     "data": {
      "text/plain": [
       "2"
      ]
     },
     "execution_count": 3,
     "metadata": {},
     "output_type": "execute_result"
    }
   ],
   "source": [
    "mat = [[0, 1, 1, 1, 0],\n",
    "       [1, 0, 0, 0, 1],\n",
    "       [1, 0, 1, 0, 1],\n",
    "       [1, 0, 0, 0, 1],\n",
    "       [0, 1, 1, 1, 0]]\n",
    "\n",
    "num_islands(mat)"
   ]
  },
  {
   "cell_type": "markdown",
   "metadata": {},
   "source": [
    "It works!"
   ]
  }
 ],
 "metadata": {
  "kernelspec": {
   "display_name": "Python 2",
   "language": "python",
   "name": "python2"
  },
  "language_info": {
   "codemirror_mode": {
    "name": "ipython",
    "version": 2
   },
   "file_extension": ".py",
   "mimetype": "text/x-python",
   "name": "python",
   "nbconvert_exporter": "python",
   "pygments_lexer": "ipython2",
   "version": "2.7.11"
  }
 },
 "nbformat": 4,
 "nbformat_minor": 0
}
